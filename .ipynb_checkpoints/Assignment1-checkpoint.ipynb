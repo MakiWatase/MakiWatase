{
 "cells": [
  {
   "cell_type": "markdown",
   "metadata": {},
   "source": [
    "# 課題1：仮説検定を実装する\n",
    "\n",
    "ここでは、いわゆる古典的統計手法と言われる仮説検定をPythonで実装してみましょう。\n",
    "\n",
    "レッスン6までで学んだ内容を踏まえ、各セルに入っているコメントを実行するコードを記入してください。"
   ]
  },
  {
   "cell_type": "markdown",
   "metadata": {},
   "source": [
    "## 1. 必要なモジュールの読み込み"
   ]
  },
  {
   "cell_type": "code",
   "execution_count": 1,
   "metadata": {},
   "outputs": [],
   "source": [
    "import numpy as np\n",
    "import matplotlib.pyplot as plt\n",
    "import seaborn as sns\n",
    "sns.set()\n",
    "from scipy import stats\n",
    "\n",
    "%matplotlib inline"
   ]
  },
  {
   "cell_type": "markdown",
   "metadata": {},
   "source": [
    "## 2. 1標本における解析\n",
    "\n",
    "本課題では乱数を発生させることでデータを作成し、それについて解析してみましょう。\n",
    "\n",
    "乱数のパラメータを変更すると結果がどう変化するのか、試してみるとより理解が深まるかと思います。"
   ]
  },
  {
   "cell_type": "code",
   "execution_count": 2,
   "metadata": {},
   "outputs": [],
   "source": [
    "# 任意の平均値・標準偏差をもつ正規乱数をサイズ1000個で作成し、\"data1\"に格納\n",
    "norm_dist = stats.norm(loc = 15, scale = 1)\n",
    "data1 = norm_dist.rvs(size = 1000)"
   ]
  },
  {
   "cell_type": "code",
   "execution_count": 3,
   "metadata": {},
   "outputs": [
    {
     "data": {
      "text/plain": [
       "(array([  3.,   7.,  35., 137., 236., 245., 223.,  81.,  26.,   7.]),\n",
       " array([11.33051104, 12.01575834, 12.70100564, 13.38625294, 14.07150024,\n",
       "        14.75674753, 15.44199483, 16.12724213, 16.81248943, 17.49773673,\n",
       "        18.18298403]),\n",
       " <a list of 10 Patch objects>)"
      ]
     },
     "execution_count": 3,
     "metadata": {},
     "output_type": "execute_result"
    },
    {
     "data": {
      "image/png": "[encoded data removed]",
      "text/plain": [
       "<Figure size 640x480 with 1 Axes>"
      ]
     },
     "metadata": {},
     "output_type": "display_data"
    }
   ],
   "source": [
    "#　data1のヒストグラムを作成\n",
    "plt.hist(data1)"
   ]
  },
  {
   "cell_type": "code",
   "execution_count": 4,
   "metadata": {},
   "outputs": [
    {
     "data": {
      "text/plain": [
       "14.979575998877168"
      ]
     },
     "execution_count": 4,
     "metadata": {},
     "output_type": "execute_result"
    }
   ],
   "source": [
    "# 母平均の点推定を計算し、結果を表示\n",
    "mu = np.mean(data1)\n",
    "mu"
   ]
  },
  {
   "cell_type": "code",
   "execution_count": 5,
   "metadata": {},
   "outputs": [
    {
     "data": {
      "text/plain": [
       "(14.918902836902497, 15.04024916085184)"
      ]
     },
     "execution_count": 5,
     "metadata": {},
     "output_type": "execute_result"
    }
   ],
   "source": [
    "# 95%信頼区間の推定を行い、上側信頼限界と下側信頼限界の値を表示\n",
    "df = len(data1)-1\n",
    "\n",
    "sigma = np.std(data1, ddof=1)\n",
    "se = sigma/np.sqrt(len(data1))\n",
    "\n",
    "interval = stats.t.interval(alpha=0.95, df=df, loc=mu, scale = se)\n",
    "interval"
   ]
  },
  {
   "cell_type": "code",
   "execution_count": 6,
   "metadata": {},
   "outputs": [
    {
     "data": {
      "text/plain": [
       "5.2396573407276215e-05"
      ]
     },
     "execution_count": 6,
     "metadata": {},
     "output_type": "execute_result"
    }
   ],
   "source": [
    "# 任意の帰無仮説を設定し、それに基づきt値を計算して、片側検定した結果を表示してください\n",
    "t_value = (mu-15.1)/se\n",
    "\n",
    "alpha = stats.t.cdf(np.abs(t_value), df=df) \n",
    "1-alpha"
   ]
  },
  {
   "cell_type": "code",
   "execution_count": 7,
   "metadata": {},
   "outputs": [
    {
     "data": {
      "text/plain": [
       "0.00010479314681455243"
      ]
     },
     "execution_count": 7,
     "metadata": {},
     "output_type": "execute_result"
    }
   ],
   "source": [
    "# 任意の帰無仮説を設定し、それに基づきt値を計算して、両側検定した結果を表示してください\n",
    "t_value = (mu-15.1)/se\n",
    "\n",
    "alpha = stats.t.cdf(np.abs(t_value), df=df) \n",
    "(1-alpha)*2"
   ]
  },
  {
   "cell_type": "markdown",
   "metadata": {},
   "source": [
    "## 3. 2標本における解析\n",
    "\n",
    "標本をもう1つ増やし、先ほどの標本と差があるのか否かについて検討してみましょう。"
   ]
  },
  {
   "cell_type": "code",
   "execution_count": 8,
   "metadata": {},
   "outputs": [],
   "source": [
    "# 任意の平均値・標準偏差をもつ正規乱数をサイズ1000個で作成し、\"data2\"に格納\n",
    "norm_dist = stats.norm(loc = 16, scale = 2)\n",
    "data2 = norm_dist.rvs(size = 1000)"
   ]
  },
  {
   "cell_type": "code",
   "execution_count": 15,
   "metadata": {},
   "outputs": [
    {
     "data": {
      "text/plain": [
       "(array([ 16.,  65., 148., 213., 243., 180.,  92.,  34.,   6.,   3.]),\n",
       " array([10.62255033, 11.89097742, 13.1594045 , 14.42783159, 15.69625867,\n",
       "        16.96468576, 18.23311284, 19.50153993, 20.76996701, 22.0383941 ,\n",
       "        23.30682118]),\n",
       " <a list of 10 Patch objects>)"
      ]
     },
     "execution_count": 15,
     "metadata": {},
     "output_type": "execute_result"
    },
    {
     "data": {
      "image/png": "[encoded data removed]",
      "text/plain": [
       "<Figure size 640x480 with 1 Axes>"
      ]
     },
     "metadata": {},
     "output_type": "display_data"
    }
   ],
   "source": [
    "# data1とdata2をヒストグラムにてプロット\n",
    "plt.hist(data1)\n",
    "plt.hist(data2)"
   ]
  },
  {
   "cell_type": "code",
   "execution_count": 17,
   "metadata": {},
   "outputs": [
    {
     "data": {
      "text/plain": [
       "Ttest_1sampResult(statistic=-14.345328236045088, pvalue=1.4181844557569944e-42)"
      ]
     },
     "execution_count": 17,
     "metadata": {},
     "output_type": "execute_result"
    }
   ],
   "source": [
    "# data1, data2それぞれの値を使って「対応のあるt検定」で計算し、結果を表示\n",
    "data3 = data1 - data2\n",
    "stats.ttest_1samp(data3, 0)"
   ]
  },
  {
   "cell_type": "code",
   "execution_count": 18,
   "metadata": {},
   "outputs": [
    {
     "data": {
      "text/plain": [
       "Ttest_indResult(statistic=-14.360583796830214, pvalue=8.28511697192931e-44)"
      ]
     },
     "execution_count": 18,
     "metadata": {},
     "output_type": "execute_result"
    }
   ],
   "source": [
    "# data1, data2それぞれの値を使って「対応のないt検定」で計算し、結果を表示\n",
    "stats.ttest_ind(data1, data2, equal_var = False)"
   ]
  },
  {
   "cell_type": "markdown",
   "metadata": {},
   "source": [
    "## 4. ここまでの仮説検定の結果を解釈して下記に記載してください"
   ]
  },
  {
   "cell_type": "markdown",
   "metadata": {},
   "source": [
    "data1はdata2と「 差が０ではないと言える 」（ここをダブルクリックして編集状態にし、カギカッコの中に文言を埋めてください）"
   ]
  },
  {
   "cell_type": "markdown",
   "metadata": {},
   "source": [
    "※ なお、pvalueがマイナス指数表記となっている場合に注意ください。  \n",
    "　 例えば pvalue 1.20e-12 であった場合は、1.20 * 10^-12 という意味となります。\n",
    "  \n",
    "[Lesson 14 Chapter 3.1 指数と対数 指数](https://techacademy.jp/my/datascience/data-science3/math-basic#chapter-3-1)"
   ]
  }
 ],
 "metadata": {
  "kernelspec": {
   "display_name": "Python 3 (ipykernel)",
   "language": "python",
   "name": "python3"
  },
  "language_info": {
   "codemirror_mode": {
    "name": "ipython",
    "version": 3
   },
   "file_extension": ".py",
   "mimetype": "text/x-python",
   "name": "python",
   "nbconvert_exporter": "python",
   "pygments_lexer": "ipython3",
   "version": "3.8.3"
  }
 },
 "nbformat": 4,
 "nbformat_minor": 4
}
