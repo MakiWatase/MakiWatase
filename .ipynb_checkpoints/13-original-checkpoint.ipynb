{
 "cells": [
  {
   "cell_type": "markdown",
   "id": "c0153d7b",
   "metadata": {},
   "source": [
    "最終課題\n",
    "テーマ「都市部と地方で生徒の点数に差はあるか」\n",
    "データセットはKaggleの以下のURLよりダウンロードしました。\n",
    "\n",
    "https://www.kaggle.com/datasets/kwadwoofosu/predict-test-scores-of-students"
   ]
  },
  {
   "cell_type": "markdown",
   "id": "c251c68f",
   "metadata": {},
   "source": [
    "１.必要なモジュールの読み込み"
   ]
  },
  {
   "cell_type": "code",
   "execution_count": 1,
   "id": "95abebe1",
   "metadata": {},
   "outputs": [],
   "source": [
    "import numpy as np\n",
    "import pandas as pd\n",
    "import scipy as sp\n",
    "from scipy import stats\n",
    "\n",
    "from matplotlib import pyplot as plt\n",
    "import seaborn as sns\n",
    "sns.set()\n",
    "\n",
    "import statsmodels.formula.api as smf\n",
    "import statsmodels.api as sm\n",
    "\n",
    "%matplotlib inline"
   ]
  },
  {
   "cell_type": "markdown",
   "id": "254ba71e",
   "metadata": {},
   "source": [
    "２.データの読み込み "
   ]
  },
  {
   "cell_type": "code",
   "execution_count": 2,
   "id": "72422b1f",
   "metadata": {},
   "outputs": [],
   "source": [
    "data = pd.read_csv('test_scores.csv')"
   ]
  },
  {
   "cell_type": "code",
   "execution_count": 14,
   "id": "3e6c8acf",
   "metadata": {},
   "outputs": [
    {
     "data": {
      "text/html": [
       "<div>\n",
       "<style scoped>\n",
       "    .dataframe tbody tr th:only-of-type {\n",
       "        vertical-align: middle;\n",
       "    }\n",
       "\n",
       "    .dataframe tbody tr th {\n",
       "        vertical-align: top;\n",
       "    }\n",
       "\n",
       "    .dataframe thead th {\n",
       "        text-align: right;\n",
       "    }\n",
       "</style>\n",
       "<table border=\"1\" class=\"dataframe\">\n",
       "  <thead>\n",
       "    <tr style=\"text-align: right;\">\n",
       "      <th></th>\n",
       "      <th>school</th>\n",
       "      <th>school_setting</th>\n",
       "      <th>school_type</th>\n",
       "      <th>classroom</th>\n",
       "      <th>teaching_method</th>\n",
       "      <th>n_student</th>\n",
       "      <th>student_id</th>\n",
       "      <th>gender</th>\n",
       "      <th>lunch</th>\n",
       "      <th>pretest</th>\n",
       "      <th>posttest</th>\n",
       "    </tr>\n",
       "  </thead>\n",
       "  <tbody>\n",
       "    <tr>\n",
       "      <th>2128</th>\n",
       "      <td>ZOWMK</td>\n",
       "      <td>Urban</td>\n",
       "      <td>Public</td>\n",
       "      <td>ZBH</td>\n",
       "      <td>Standard</td>\n",
       "      <td>30.0</td>\n",
       "      <td>T8LSK</td>\n",
       "      <td>Female</td>\n",
       "      <td>Does not qualify</td>\n",
       "      <td>39.0</td>\n",
       "      <td>55.0</td>\n",
       "    </tr>\n",
       "    <tr>\n",
       "      <th>2129</th>\n",
       "      <td>ZOWMK</td>\n",
       "      <td>Urban</td>\n",
       "      <td>Public</td>\n",
       "      <td>ZBH</td>\n",
       "      <td>Standard</td>\n",
       "      <td>30.0</td>\n",
       "      <td>VNP26</td>\n",
       "      <td>Female</td>\n",
       "      <td>Qualifies for reduced/free lunch</td>\n",
       "      <td>38.0</td>\n",
       "      <td>46.0</td>\n",
       "    </tr>\n",
       "    <tr>\n",
       "      <th>2130</th>\n",
       "      <td>ZOWMK</td>\n",
       "      <td>Urban</td>\n",
       "      <td>Public</td>\n",
       "      <td>ZBH</td>\n",
       "      <td>Standard</td>\n",
       "      <td>30.0</td>\n",
       "      <td>YDR1Z</td>\n",
       "      <td>Female</td>\n",
       "      <td>Qualifies for reduced/free lunch</td>\n",
       "      <td>45.0</td>\n",
       "      <td>51.0</td>\n",
       "    </tr>\n",
       "    <tr>\n",
       "      <th>2131</th>\n",
       "      <td>ZOWMK</td>\n",
       "      <td>Urban</td>\n",
       "      <td>Public</td>\n",
       "      <td>ZBH</td>\n",
       "      <td>Standard</td>\n",
       "      <td>30.0</td>\n",
       "      <td>YUEIH</td>\n",
       "      <td>Male</td>\n",
       "      <td>Qualifies for reduced/free lunch</td>\n",
       "      <td>46.0</td>\n",
       "      <td>53.0</td>\n",
       "    </tr>\n",
       "    <tr>\n",
       "      <th>2132</th>\n",
       "      <td>ZOWMK</td>\n",
       "      <td>Urban</td>\n",
       "      <td>Public</td>\n",
       "      <td>ZBH</td>\n",
       "      <td>Standard</td>\n",
       "      <td>30.0</td>\n",
       "      <td>ZVCQ8</td>\n",
       "      <td>Male</td>\n",
       "      <td>Qualifies for reduced/free lunch</td>\n",
       "      <td>41.0</td>\n",
       "      <td>48.0</td>\n",
       "    </tr>\n",
       "  </tbody>\n",
       "</table>\n",
       "</div>"
      ],
      "text/plain": [
       "     school school_setting school_type classroom teaching_method  n_student  \\\n",
       "2128  ZOWMK          Urban      Public       ZBH        Standard       30.0   \n",
       "2129  ZOWMK          Urban      Public       ZBH        Standard       30.0   \n",
       "2130  ZOWMK          Urban      Public       ZBH        Standard       30.0   \n",
       "2131  ZOWMK          Urban      Public       ZBH        Standard       30.0   \n",
       "2132  ZOWMK          Urban      Public       ZBH        Standard       30.0   \n",
       "\n",
       "     student_id  gender                             lunch  pretest  posttest  \n",
       "2128      T8LSK  Female                  Does not qualify     39.0      55.0  \n",
       "2129      VNP26  Female  Qualifies for reduced/free lunch     38.0      46.0  \n",
       "2130      YDR1Z  Female  Qualifies for reduced/free lunch     45.0      51.0  \n",
       "2131      YUEIH    Male  Qualifies for reduced/free lunch     46.0      53.0  \n",
       "2132      ZVCQ8    Male  Qualifies for reduced/free lunch     41.0      48.0  "
      ]
     },
     "execution_count": 14,
     "metadata": {},
     "output_type": "execute_result"
    }
   ],
   "source": [
    "#dataの最後の５行のみ表示\n",
    "data.tail()"
   ]
  },
  {
   "cell_type": "markdown",
   "id": "30ab9911",
   "metadata": {},
   "source": [
    "３.データ内容の確認"
   ]
  },
  {
   "cell_type": "code",
   "execution_count": 6,
   "id": "8539dc4e",
   "metadata": {},
   "outputs": [
    {
     "data": {
      "text/plain": [
       "<matplotlib.axes._subplots.AxesSubplot at 0x7fead74dccd0>"
      ]
     },
     "execution_count": 6,
     "metadata": {},
     "output_type": "execute_result"
    },
    {
     "data": {
      "image/png": "[encoded data removed]",
      "text/plain": [
       "<Figure size 500x300 with 1 Axes>"
      ]
     },
     "metadata": {},
     "output_type": "display_data"
    }
   ],
   "source": [
    "# 箱ひげ図にて学校所在地別のプレテストの成績を表示\n",
    "f, axes = plt.subplots(figsize=(5,3))\n",
    "\n",
    "sns.boxplot(x='school_setting', y='posttest', data=data)"
   ]
  },
  {
   "cell_type": "markdown",
   "id": "cc7d9617",
   "metadata": {},
   "source": [
    "４.分散分析"
   ]
  },
  {
   "cell_type": "code",
   "execution_count": 8,
   "id": "19397019",
   "metadata": {},
   "outputs": [
    {
     "name": "stdout",
     "output_type": "stream",
     "text": [
      "Urban: 61.74834437086093\n",
      "Suburban: 76.0376569037657\n",
      "Rural: 64.05098039215686\n"
     ]
    }
   ],
   "source": [
    "# 各ラインの濃度の平均値を計算し、それぞれを連結して リストとして格納\n",
    "me_urban = np.mean(data.query('school_setting == \"Urban\"')['posttest'])\n",
    "me_suburban = np.mean(data.query('school_setting == \"Suburban\"')['posttest'])\n",
    "me_rural = np.mean(data.query('school_setting == \"Rural\"')['posttest'])\n",
    "\n",
    "print('Urban:', me_urban)\n",
    "print('Suburban:', me_suburban)\n",
    "print('Rural:', me_rural)\n",
    "\n",
    "list = [me_urban, me_suburban, me_rural]"
   ]
  },
  {
   "cell_type": "code",
   "execution_count": 19,
   "id": "a8b31ff3",
   "metadata": {},
   "outputs": [
    {
     "data": {
      "text/plain": [
       "83774.14169530563"
      ]
     },
     "execution_count": 19,
     "metadata": {},
     "output_type": "execute_result"
    }
   ],
   "source": [
    "#　効果の平方和を求める\n",
    "mu_n = [61.748]*711 + [76.038]*711 + [64.051]*711\n",
    "\n",
    "mu_n = np.array(mu_n)\n",
    "\n",
    "mu_all = np.mean(data['posttest'])\n",
    "effect = mu_n - mu_all\n",
    "\n",
    "squares_line = np.sum(effect**2)\n",
    "squares_line"
   ]
  },
  {
   "cell_type": "code",
   "execution_count": 21,
   "id": "51ca3257",
   "metadata": {},
   "outputs": [],
   "source": [
    "#　誤差を求める\n",
    "resid = data['posttest']-mu_n"
   ]
  },
  {
   "cell_type": "code",
   "execution_count": 22,
   "id": "7dfe16af",
   "metadata": {},
   "outputs": [
    {
     "data": {
      "text/plain": [
       "583136.581339"
      ]
     },
     "execution_count": 22,
     "metadata": {},
     "output_type": "execute_result"
    }
   ],
   "source": [
    "#　誤差の平方和を求める\n",
    "squares_resid = np.sum(resid**2)\n",
    "squares_resid"
   ]
  },
  {
   "cell_type": "code",
   "execution_count": 23,
   "id": "9bda88e1",
   "metadata": {},
   "outputs": [],
   "source": [
    " # 効果の自由度を変数 df_model に格納し、誤差の自由度を変数 df_resid に格納する\n",
    "df_model = 2   # 学校所在地の自由度 = ３(製造ライン) - 1\n",
    "df_resid = 2130 # 群内変動の自由度 = (全体の自由度 = ２１３３(全体の数) - 1) - (製造ラインの自由度)"
   ]
  },
  {
   "cell_type": "code",
   "execution_count": 24,
   "id": "344c28be",
   "metadata": {},
   "outputs": [
    {
     "data": {
      "text/plain": [
       "83774.14169530563"
      ]
     },
     "execution_count": 24,
     "metadata": {},
     "output_type": "execute_result"
    }
   ],
   "source": [
    "# 効果の分散を求める\n",
    "variance_model = squares_line\n",
    "variance_model"
   ]
  },
  {
   "cell_type": "code",
   "execution_count": 25,
   "id": "9d09aec2",
   "metadata": {},
   "outputs": [
    {
     "data": {
      "text/plain": [
       "273.77304288215964"
      ]
     },
     "execution_count": 25,
     "metadata": {},
     "output_type": "execute_result"
    }
   ],
   "source": [
    "# 誤差の分散を求める\n",
    "variance_resid = squares_resid/df_resid\n",
    "variance_resid"
   ]
  },
  {
   "cell_type": "code",
   "execution_count": 26,
   "id": "4f905c39",
   "metadata": {},
   "outputs": [
    {
     "data": {
      "text/plain": [
       "305.9985045034715"
      ]
     },
     "execution_count": 26,
     "metadata": {},
     "output_type": "execute_result"
    }
   ],
   "source": [
    "# p値を求める\n",
    "# まずF比を求める\n",
    "f_ratio = variance_model/variance_resid\n",
    "f_ratio"
   ]
  },
  {
   "cell_type": "code",
   "execution_count": 27,
   "id": "29ed7c73",
   "metadata": {},
   "outputs": [
    {
     "data": {
      "text/plain": [
       "1.1102230246251565e-16"
      ]
     },
     "execution_count": 27,
     "metadata": {},
     "output_type": "execute_result"
    }
   ],
   "source": [
    "# p値を求めて、表示する\n",
    "1-sp.stats.f.cdf(x=f_ratio, dfn=df_model, dfd=df_resid)"
   ]
  },
  {
   "cell_type": "markdown",
   "id": "0c8bc630",
   "metadata": {},
   "source": [
    "5. Statsmodelsによる分散分析"
   ]
  },
  {
   "cell_type": "code",
   "execution_count": 28,
   "id": "bdbbb534",
   "metadata": {},
   "outputs": [],
   "source": [
    "# 最小二乗法を使ってモデルを作成\n",
    "anova_model = smf.ols('posttest ~ school_setting', data=data).fit()"
   ]
  },
  {
   "cell_type": "code",
   "execution_count": 29,
   "id": "6f07323a",
   "metadata": {},
   "outputs": [
    {
     "data": {
      "text/html": [
       "<div>\n",
       "<style scoped>\n",
       "    .dataframe tbody tr th:only-of-type {\n",
       "        vertical-align: middle;\n",
       "    }\n",
       "\n",
       "    .dataframe tbody tr th {\n",
       "        vertical-align: top;\n",
       "    }\n",
       "\n",
       "    .dataframe thead th {\n",
       "        text-align: right;\n",
       "    }\n",
       "</style>\n",
       "<table border=\"1\" class=\"dataframe\">\n",
       "  <thead>\n",
       "    <tr style=\"text-align: right;\">\n",
       "      <th></th>\n",
       "      <th>sum_sq</th>\n",
       "      <th>df</th>\n",
       "      <th>F</th>\n",
       "      <th>PR(&gt;F)</th>\n",
       "    </tr>\n",
       "  </thead>\n",
       "  <tbody>\n",
       "    <tr>\n",
       "      <th>school_setting</th>\n",
       "      <td>87964.439354</td>\n",
       "      <td>2.0</td>\n",
       "      <td>284.64491</td>\n",
       "      <td>2.776785e-110</td>\n",
       "    </tr>\n",
       "    <tr>\n",
       "      <th>Residual</th>\n",
       "      <td>329119.280290</td>\n",
       "      <td>2130.0</td>\n",
       "      <td>NaN</td>\n",
       "      <td>NaN</td>\n",
       "    </tr>\n",
       "  </tbody>\n",
       "</table>\n",
       "</div>"
      ],
      "text/plain": [
       "                       sum_sq      df          F         PR(>F)\n",
       "school_setting   87964.439354     2.0  284.64491  2.776785e-110\n",
       "Residual        329119.280290  2130.0        NaN            NaN"
      ]
     },
     "execution_count": 29,
     "metadata": {},
     "output_type": "execute_result"
    }
   ],
   "source": [
    "# Statsmodelsの関数で分散分析を実行し、結果を表示\n",
    "sm.stats.anova_lm(anova_model, typ=2)"
   ]
  },
  {
   "cell_type": "markdown",
   "id": "048b0e9b",
   "metadata": {},
   "source": [
    "６.結果の解釈"
   ]
  },
  {
   "cell_type": "markdown",
   "id": "11648d66",
   "metadata": {},
   "source": [
    "学校の地域によってテストの点数は有意に異なる。"
   ]
  },
  {
   "cell_type": "code",
   "execution_count": null,
   "id": "3733ebf6",
   "metadata": {},
   "outputs": [],
   "source": []
  }
 ],
 "metadata": {
  "kernelspec": {
   "display_name": "Python 3 (ipykernel)",
   "language": "python",
   "name": "python3"
  },
  "language_info": {
   "codemirror_mode": {
    "name": "ipython",
    "version": 3
   },
   "file_extension": ".py",
   "mimetype": "text/x-python",
   "name": "python",
   "nbconvert_exporter": "python",
   "pygments_lexer": "ipython3",
   "version": "3.8.3"
  }
 },
 "nbformat": 4,
 "nbformat_minor": 5
}
