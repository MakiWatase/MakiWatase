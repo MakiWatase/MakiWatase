{
 "cells": [
  {
   "cell_type": "markdown",
   "id": "94bfdc5d",
   "metadata": {},
   "source": [
    "## AIコース　Lesson6"
   ]
  },
  {
   "cell_type": "markdown",
   "id": "53ec01af",
   "metadata": {},
   "source": [
    "復習\n",
    "2024/2/27\n",
    "無事3コース終えた。\n",
    "カリキュラムの内容に沿って、若干違う内容で復習を行ってみようと思う。"
   ]
  },
  {
   "cell_type": "markdown",
   "id": "f4b20783",
   "metadata": {},
   "source": [
    "### ライブラリのインポート"
   ]
  },
  {
   "cell_type": "code",
   "execution_count": 1,
   "id": "e4e44e8d",
   "metadata": {},
   "outputs": [],
   "source": [
    "import numpy as np\n",
    "import matplotlib.pyplot as plt\n",
    "import pandas as pd\n",
    "\n",
    "# JupyterNotebook上でグラフを表示する設定\n",
    "%matplotlib inline\n",
    "# DataFrameですべての列を表示する設定\n",
    "pd.options.display.max_columns = None"
   ]
  },
  {
   "cell_type": "markdown",
   "id": "93cf671d",
   "metadata": {},
   "source": [
    "### データの読み込み（プロ野球選手のデータ）"
   ]
  },
  {
   "cell_type": "code",
   "execution_count": 2,
   "id": "133263f6",
   "metadata": {},
   "outputs": [
    {
     "data": {
      "text/html": [
       "<div>\n",
       "<style scoped>\n",
       "    .dataframe tbody tr th:only-of-type {\n",
       "        vertical-align: middle;\n",
       "    }\n",
       "\n",
       "    .dataframe tbody tr th {\n",
       "        vertical-align: top;\n",
       "    }\n",
       "\n",
       "    .dataframe thead th {\n",
       "        text-align: right;\n",
       "    }\n",
       "</style>\n",
       "<table border=\"1\" class=\"dataframe\">\n",
       "  <thead>\n",
       "    <tr style=\"text-align: right;\">\n",
       "      <th></th>\n",
       "      <th>球団</th>\n",
       "      <th>推定年俸</th>\n",
       "      <th>守備</th>\n",
       "      <th>年数</th>\n",
       "      <th>年齢</th>\n",
       "      <th>身長</th>\n",
       "      <th>体重</th>\n",
       "      <th>血液型</th>\n",
       "      <th>投打</th>\n",
       "      <th>年</th>\n",
       "      <th>打率</th>\n",
       "      <th>試合</th>\n",
       "      <th>打席数</th>\n",
       "      <th>打数</th>\n",
       "      <th>安打</th>\n",
       "      <th>本塁打</th>\n",
       "      <th>打点</th>\n",
       "      <th>盗塁</th>\n",
       "      <th>四球</th>\n",
       "      <th>死球</th>\n",
       "      <th>三振</th>\n",
       "      <th>犠打</th>\n",
       "      <th>併殺打</th>\n",
       "      <th>出塁率</th>\n",
       "      <th>長打率</th>\n",
       "      <th>OPS</th>\n",
       "      <th>RC27</th>\n",
       "      <th>XR27</th>\n",
       "      <th>球団勝率</th>\n",
       "      <th>プレーオフ</th>\n",
       "      <th>球団平均得点</th>\n",
       "      <th>球団打率</th>\n",
       "    </tr>\n",
       "  </thead>\n",
       "  <tbody>\n",
       "    <tr>\n",
       "      <th>0</th>\n",
       "      <td>c</td>\n",
       "      <td>21000</td>\n",
       "      <td>外野手</td>\n",
       "      <td>11</td>\n",
       "      <td>29</td>\n",
       "      <td>177</td>\n",
       "      <td>90</td>\n",
       "      <td>AB型</td>\n",
       "      <td>右左</td>\n",
       "      <td>2017</td>\n",
       "      <td>0.308</td>\n",
       "      <td>143</td>\n",
       "      <td>651</td>\n",
       "      <td>556</td>\n",
       "      <td>171</td>\n",
       "      <td>23</td>\n",
       "      <td>92</td>\n",
       "      <td>13</td>\n",
       "      <td>83</td>\n",
       "      <td>4</td>\n",
       "      <td>113</td>\n",
       "      <td>2</td>\n",
       "      <td>6</td>\n",
       "      <td>0.398</td>\n",
       "      <td>0.505</td>\n",
       "      <td>0.903</td>\n",
       "      <td>7.70</td>\n",
       "      <td>7.52</td>\n",
       "      <td>0.633</td>\n",
       "      <td>2</td>\n",
       "      <td>5.15</td>\n",
       "      <td>0.273</td>\n",
       "    </tr>\n",
       "    <tr>\n",
       "      <th>1</th>\n",
       "      <td>c</td>\n",
       "      <td>19000</td>\n",
       "      <td>内野手</td>\n",
       "      <td>7</td>\n",
       "      <td>28</td>\n",
       "      <td>171</td>\n",
       "      <td>72</td>\n",
       "      <td>A型</td>\n",
       "      <td>右右</td>\n",
       "      <td>2017</td>\n",
       "      <td>0.271</td>\n",
       "      <td>138</td>\n",
       "      <td>629</td>\n",
       "      <td>565</td>\n",
       "      <td>153</td>\n",
       "      <td>14</td>\n",
       "      <td>56</td>\n",
       "      <td>8</td>\n",
       "      <td>32</td>\n",
       "      <td>1</td>\n",
       "      <td>107</td>\n",
       "      <td>30</td>\n",
       "      <td>9</td>\n",
       "      <td>0.311</td>\n",
       "      <td>0.405</td>\n",
       "      <td>0.716</td>\n",
       "      <td>4.10</td>\n",
       "      <td>4.01</td>\n",
       "      <td>0.633</td>\n",
       "      <td>2</td>\n",
       "      <td>5.15</td>\n",
       "      <td>0.273</td>\n",
       "    </tr>\n",
       "    <tr>\n",
       "      <th>2</th>\n",
       "      <td>c</td>\n",
       "      <td>14000</td>\n",
       "      <td>内野手</td>\n",
       "      <td>5</td>\n",
       "      <td>29</td>\n",
       "      <td>171</td>\n",
       "      <td>85</td>\n",
       "      <td>A型</td>\n",
       "      <td>右左</td>\n",
       "      <td>2017</td>\n",
       "      <td>0.290</td>\n",
       "      <td>143</td>\n",
       "      <td>679</td>\n",
       "      <td>565</td>\n",
       "      <td>164</td>\n",
       "      <td>8</td>\n",
       "      <td>60</td>\n",
       "      <td>35</td>\n",
       "      <td>89</td>\n",
       "      <td>15</td>\n",
       "      <td>120</td>\n",
       "      <td>6</td>\n",
       "      <td>5</td>\n",
       "      <td>0.398</td>\n",
       "      <td>0.407</td>\n",
       "      <td>0.805</td>\n",
       "      <td>6.41</td>\n",
       "      <td>6.26</td>\n",
       "      <td>0.633</td>\n",
       "      <td>2</td>\n",
       "      <td>5.15</td>\n",
       "      <td>0.273</td>\n",
       "    </tr>\n",
       "    <tr>\n",
       "      <th>3</th>\n",
       "      <td>c</td>\n",
       "      <td>11500</td>\n",
       "      <td>内野手</td>\n",
       "      <td>7</td>\n",
       "      <td>38</td>\n",
       "      <td>196</td>\n",
       "      <td>126</td>\n",
       "      <td>不明</td>\n",
       "      <td>右右</td>\n",
       "      <td>2017</td>\n",
       "      <td>0.265</td>\n",
       "      <td>116</td>\n",
       "      <td>405</td>\n",
       "      <td>344</td>\n",
       "      <td>91</td>\n",
       "      <td>27</td>\n",
       "      <td>78</td>\n",
       "      <td>0</td>\n",
       "      <td>50</td>\n",
       "      <td>8</td>\n",
       "      <td>111</td>\n",
       "      <td>0</td>\n",
       "      <td>8</td>\n",
       "      <td>0.368</td>\n",
       "      <td>0.532</td>\n",
       "      <td>0.900</td>\n",
       "      <td>6.80</td>\n",
       "      <td>6.90</td>\n",
       "      <td>0.633</td>\n",
       "      <td>2</td>\n",
       "      <td>5.15</td>\n",
       "      <td>0.273</td>\n",
       "    </tr>\n",
       "    <tr>\n",
       "      <th>4</th>\n",
       "      <td>c</td>\n",
       "      <td>11000</td>\n",
       "      <td>内野手</td>\n",
       "      <td>20</td>\n",
       "      <td>41</td>\n",
       "      <td>189</td>\n",
       "      <td>102</td>\n",
       "      <td>B型</td>\n",
       "      <td>右右</td>\n",
       "      <td>2017</td>\n",
       "      <td>0.292</td>\n",
       "      <td>100</td>\n",
       "      <td>288</td>\n",
       "      <td>243</td>\n",
       "      <td>71</td>\n",
       "      <td>9</td>\n",
       "      <td>48</td>\n",
       "      <td>2</td>\n",
       "      <td>40</td>\n",
       "      <td>1</td>\n",
       "      <td>56</td>\n",
       "      <td>0</td>\n",
       "      <td>7</td>\n",
       "      <td>0.389</td>\n",
       "      <td>0.461</td>\n",
       "      <td>0.850</td>\n",
       "      <td>6.55</td>\n",
       "      <td>6.54</td>\n",
       "      <td>0.633</td>\n",
       "      <td>2</td>\n",
       "      <td>5.15</td>\n",
       "      <td>0.273</td>\n",
       "    </tr>\n",
       "  </tbody>\n",
       "</table>\n",
       "</div>"
      ],
      "text/plain": [
       "  球団   推定年俸   守備  年数  年齢   身長   体重  血液型  投打     年     打率   試合  打席数   打数   安打  \\\n",
       "0  c  21000  外野手  11  29  177   90  AB型  右左  2017  0.308  143  651  556  171   \n",
       "1  c  19000  内野手   7  28  171   72   A型  右右  2017  0.271  138  629  565  153   \n",
       "2  c  14000  内野手   5  29  171   85   A型  右左  2017  0.290  143  679  565  164   \n",
       "3  c  11500  内野手   7  38  196  126   不明  右右  2017  0.265  116  405  344   91   \n",
       "4  c  11000  内野手  20  41  189  102   B型  右右  2017  0.292  100  288  243   71   \n",
       "\n",
       "   本塁打  打点  盗塁  四球  死球   三振  犠打  併殺打    出塁率    長打率    OPS  RC27  XR27   球団勝率  \\\n",
       "0   23  92  13  83   4  113   2    6  0.398  0.505  0.903  7.70  7.52  0.633   \n",
       "1   14  56   8  32   1  107  30    9  0.311  0.405  0.716  4.10  4.01  0.633   \n",
       "2    8  60  35  89  15  120   6    5  0.398  0.407  0.805  6.41  6.26  0.633   \n",
       "3   27  78   0  50   8  111   0    8  0.368  0.532  0.900  6.80  6.90  0.633   \n",
       "4    9  48   2  40   1   56   0    7  0.389  0.461  0.850  6.55  6.54  0.633   \n",
       "\n",
       "   プレーオフ  球団平均得点   球団打率  \n",
       "0      2    5.15  0.273  \n",
       "1      2    5.15  0.273  \n",
       "2      2    5.15  0.273  \n",
       "3      2    5.15  0.273  \n",
       "4      2    5.15  0.273  "
      ]
     },
     "execution_count": 2,
     "metadata": {},
     "output_type": "execute_result"
    }
   ],
   "source": [
    "dataset = pd.read_csv(\"baseball_salary.csv\")\n",
    "dataset.head()"
   ]
  },
  {
   "cell_type": "markdown",
   "id": "b83bd468",
   "metadata": {},
   "source": [
    "必要な列を抜き出す。"
   ]
  },
  {
   "cell_type": "markdown",
   "id": "3214bc28",
   "metadata": {},
   "source": [
    "まずは「１変数の線形回帰モデル」を作ってみる。\n",
    "カリキュラムでは打点で推定年棒を予測していたが、今回は安打で予測してみる。\n",
    "\n",
    "まずは必要なライブラリを読み込む。"
   ]
  },
  {
   "cell_type": "code",
   "execution_count": 3,
   "id": "aa6b8133",
   "metadata": {},
   "outputs": [],
   "source": [
    "# 必要なライブラリの読み込み\n",
    "\n",
    "# ホールドアウト法によるデータの分割\n",
    "# 線形回帰モデル\n",
    "# モデルの性能評価用\n",
    "from sklearn.model_selection import train_test_split\n",
    "from sklearn.linear_model import LinearRegression\n",
    "from sklearn.metrics import mean_squared_error"
   ]
  },
  {
   "cell_type": "code",
   "execution_count": 4,
   "id": "06c48d59",
   "metadata": {},
   "outputs": [],
   "source": [
    "# 目的変数（Y)：推定年俸、説明変数（X)：本塁打\n",
    "Y = np.array(dataset['推定年俸'])\n",
    "X = np.array(dataset[['安打']])"
   ]
  },
  {
   "cell_type": "code",
   "execution_count": 5,
   "id": "8b4a6ada",
   "metadata": {},
   "outputs": [
    {
     "name": "stdout",
     "output_type": "stream",
     "text": [
      "Y= (241,) , X= (241, 1)\n"
     ]
    }
   ],
   "source": [
    "# 形状を確認\n",
    "print(\"Y=\", Y.shape, \", X=\", X.shape)"
   ]
  },
  {
   "cell_type": "code",
   "execution_count": 6,
   "id": "753e6b46",
   "metadata": {},
   "outputs": [],
   "source": [
    "# XとYを機械学習用データ（train)とテストデータ（test)に7:3に分ける\n",
    "X_train, X_test, Y_train, Y_test = train_test_split(X, Y, test_size=0.3, random_state=0)\n",
    "# Trainをさらに学習データ（train)と検証データ（valid)に7:3に分ける\n",
    "X_train, X_valid, Y_train, Y_valid = train_test_split(X_train, Y_train, test_size=0.3, random_state=0)"
   ]
  },
  {
   "cell_type": "code",
   "execution_count": 7,
   "id": "3cf97b22",
   "metadata": {},
   "outputs": [
    {
     "name": "stdout",
     "output_type": "stream",
     "text": [
      "Y_train= (117,) , X_train= (117, 1)\n",
      "Y_valid= (51,) , X_valid= (51, 1)\n",
      "Y_test= (73,) , X_test= (73, 1)\n"
     ]
    }
   ],
   "source": [
    "#分割したデータの形状を確認する\n",
    "print(\"Y_train=\", Y_train.shape, \", X_train=\", X_train.shape)\n",
    "print(\"Y_valid=\", Y_valid.shape, \", X_valid=\", X_valid.shape)\n",
    "print(\"Y_test=\", Y_test.shape, \", X_test=\", X_test.shape)"
   ]
  },
  {
   "cell_type": "code",
   "execution_count": 8,
   "id": "c1b71f8d",
   "metadata": {},
   "outputs": [
    {
     "data": {
      "text/plain": [
       "LinearRegression()"
      ]
     },
     "execution_count": 8,
     "metadata": {},
     "output_type": "execute_result"
    }
   ],
   "source": [
    "#線形回帰モデル\n",
    "linear_model = LinearRegression()\n",
    "#学習はfit, 訓練データで学習\n",
    "linear_model.fit(X_train, Y_train)"
   ]
  },
  {
   "cell_type": "code",
   "execution_count": 9,
   "id": "6382c8b0",
   "metadata": {},
   "outputs": [],
   "source": [
    "#予測はpredict, 検証データで予測\n",
    "Y_pred = linear_model.predict(X_valid)"
   ]
  },
  {
   "cell_type": "code",
   "execution_count": 10,
   "id": "a37e027b",
   "metadata": {},
   "outputs": [
    {
     "name": "stdout",
     "output_type": "stream",
     "text": [
      "正解： [1140 5400 5700 1650 3100]\n",
      "予測： [  735.85187792 11631.196459    8879.84681731  3707.30949094\n",
      "  7669.25297497]\n"
     ]
    }
   ],
   "source": [
    "#正解と予測値を比較する。\n",
    "print(\"正解：\", Y_valid[:5])\n",
    "print(\"予測：\", Y_pred[:5])"
   ]
  },
  {
   "cell_type": "code",
   "execution_count": 11,
   "id": "a48e95c9",
   "metadata": {},
   "outputs": [
    {
     "name": "stdout",
     "output_type": "stream",
     "text": [
      "MSE(1変数の線形回帰モデル)： 73842058.4514683\n"
     ]
    }
   ],
   "source": [
    "#この回帰モデルを評価する\n",
    "#MSE(平均二乗誤差)を用いる\n",
    "\n",
    "linear_model_mse = mean_squared_error(Y_valid, Y_pred)\n",
    "print('MSE(1変数の線形回帰モデル)：', linear_model_mse)"
   ]
  },
  {
   "cell_type": "markdown",
   "id": "0dc90c37",
   "metadata": {},
   "source": [
    "どのような数式のモデルが作成されたか確認をする。"
   ]
  },
  {
   "cell_type": "code",
   "execution_count": 12,
   "id": "575d2075",
   "metadata": {},
   "outputs": [
    {
     "name": "stdout",
     "output_type": "stream",
     "text": [
      "p0: 405.68992091538894 , p1: 110.05398566745792\n"
     ]
    }
   ],
   "source": [
    "# interceptは切片という意味\n",
    "p0 = linear_model.intercept_\n",
    "# coefは係数という意味\n",
    "p1 = linear_model.coef_[0]\n",
    "\n",
    "print(\"p0:\", p0, \", p1:\", p1)"
   ]
  },
  {
   "cell_type": "code",
   "execution_count": 13,
   "id": "62e98026",
   "metadata": {},
   "outputs": [
    {
     "data": {
      "image/png": "[encoded data removed]",
      "text/plain": [
       "<Figure size 640x480 with 1 Axes>"
      ]
     },
     "metadata": {},
     "output_type": "display_data"
    }
   ],
   "source": [
    "#グラフ化\n",
    "\n",
    "#パラメータを使った１次関数\n",
    "def calc(x):\n",
    "    return p0 + p1 * x\n",
    "\n",
    "#本塁打(X)の最小値～最大値の範囲で値を100個作成してリストに格納する\n",
    "X_simu = np.linspace(X.min(), X.max(), 100)\n",
    "\n",
    "#パラメータを使った1次関数による値\n",
    "Y_simu = calc(X_simu)\n",
    "\n",
    "#線形回帰モデルによる予測値\n",
    "Y_prd2 = linear_model.predict(X_simu.reshape(-1,1))\n",
    "\n",
    "#1次関数：赤い点線(予測値を描画してから描画する)、予測値：オレンジ、実際の値：青い散布図\n",
    "plt.plot(X_simu, Y_prd2, color='orange', linewidth=8)\n",
    "plt.plot(X_simu, Y_simu, color='darkred', linewidth=1, linestyle='dashed')\n",
    "plt.scatter(X, Y)\n",
    "plt.show()"
   ]
  },
  {
   "cell_type": "markdown",
   "id": "d932caa2",
   "metadata": {},
   "source": [
    "### 目的変数を対数に変換してみる"
   ]
  },
  {
   "cell_type": "markdown",
   "id": "93396f34",
   "metadata": {},
   "source": [
    "次に、説明変数を加工してモデルの性能が上がるかどうか試す。\n",
    "年収や価格などの「金額」については、対数で表したほうがモデルにフィットしやすい場合がある。\n",
    "私たちが「年俸3000万円から5000万円へのアップ」と「年俸3億円から5億円へのアップ」を\n",
    "似たようなインパクトで感じるのと共通性があるのかもしれない。\n",
    "\n",
    "金額の差が反映されるようにプロットするのではなく、金額の比が反映されるように、金額を対数でプロットしてみる。"
   ]
  },
  {
   "cell_type": "code",
   "execution_count": 14,
   "id": "cb4b67f0",
   "metadata": {},
   "outputs": [
    {
     "name": "stdout",
     "output_type": "stream",
     "text": [
      "[21000 19000 14000 11500 11000]\n",
      "[4.32221929 4.2787536  4.14612804 4.06069784 4.04139269]\n"
     ]
    }
   ],
   "source": [
    "#推定年棒の対数\n",
    "Y_log = np.log10(Y)\n",
    "\n",
    "#推定年棒と推定年棒の対数を比較\n",
    "print(Y[:5])\n",
    "print(Y_log[:5])"
   ]
  },
  {
   "cell_type": "code",
   "execution_count": 15,
   "id": "0d47e3ee",
   "metadata": {},
   "outputs": [],
   "source": [
    "# データセットの分割（※Y_logを使用）\n",
    "X_train, X_test, Y_train, Y_test = train_test_split(X, Y_log, test_size=0.3, random_state=0)\n",
    "X_train, X_valid, Y_train, Y_valid = train_test_split(X_train, Y_train, test_size=0.3, random_state=0)\n",
    "\n",
    "# モデルの作成～予測\n",
    "log_model = LinearRegression()\n",
    "log_model.fit(X_train, Y_train)\n",
    "Y_pred = log_model.predict(X_valid)"
   ]
  },
  {
   "cell_type": "code",
   "execution_count": 16,
   "id": "c1dbb512",
   "metadata": {},
   "outputs": [
    {
     "name": "stdout",
     "output_type": "stream",
     "text": [
      "MSE(1変数の線形回帰モデル～対数版): 82084765.30676235\n"
     ]
    }
   ],
   "source": [
    "# 対数から金額に戻す\n",
    "Y_valid_org = np.power(10, Y_valid)\n",
    "Y_pred_org = np.power(10, Y_pred)\n",
    "\n",
    "# MSEを算出\n",
    "log_model_mse = mean_squared_error(Y_valid_org, Y_pred_org)\n",
    "print('MSE(1変数の線形回帰モデル～対数版):', log_model_mse)"
   ]
  },
  {
   "cell_type": "markdown",
   "id": "44218e8e",
   "metadata": {},
   "source": [
    "対数でない通常のモデル（MSE:73842058.4514683）の方が性能が良かった。\n",
    "グラフ化して先程のモデルと比較する。"
   ]
  },
  {
   "cell_type": "code",
   "execution_count": 17,
   "id": "a929baf9",
   "metadata": {},
   "outputs": [
    {
     "data": {
      "image/png": "[encoded data removed]",
      "text/plain": [
       "<Figure size 640x480 with 1 Axes>"
      ]
     },
     "metadata": {},
     "output_type": "display_data"
    }
   ],
   "source": [
    "# 打点（X)の最小値～最大値の範囲で値を100個作成してリストに格納する\n",
    "X_simu = np.linspace(X.min(), X.max(), 100)\n",
    "\n",
    "# 線形回帰モデルによる予測値\n",
    "Y_prd1 = linear_model.predict(X_simu.reshape(-1,1))\n",
    "# 線形回帰モデル（対数版）による予測値\n",
    "Y_prd2 = log_model.predict(X_simu.reshape(-1,1))\n",
    "Y_prd2 = np.power(10, Y_prd2)\n",
    "\n",
    "# １次関数：赤い点線、予測値：緑、実際の値：青い散布図\n",
    "plt.plot(X_simu, Y_prd1, color='darkred', linewidth=1, linestyle='dashed')\n",
    "plt.plot(X_simu, Y_prd2, color='green', linewidth=4, linestyle='solid')\n",
    "plt.scatter(X, Y)\n",
    "plt.show()"
   ]
  },
  {
   "cell_type": "markdown",
   "id": "56e3b126",
   "metadata": {},
   "source": [
    "### 多項式モデル"
   ]
  },
  {
   "cell_type": "markdown",
   "id": "ac899fef",
   "metadata": {},
   "source": [
    "パラメータの数が増えても、最適なパラメータは勾配降下法で求められる。\n",
    "次数は自分で決められるが、増やしすぎると過学習となる可能性がある。\n",
    "パラメータ数を変化させながらMSEを求め、適切なパラメータ数を求める。"
   ]
  },
  {
   "cell_type": "code",
   "execution_count": 22,
   "id": "5fd7f5e7",
   "metadata": {},
   "outputs": [
    {
     "data": {
      "image/png": "[encoded data removed]",
      "text/plain": [
       "<Figure size 640x480 with 1 Axes>"
      ]
     },
     "metadata": {},
     "output_type": "display_data"
    }
   ],
   "source": [
    "# MSEの結果を入れるリスト\n",
    "mse_list_train = []\n",
    "mse_list_valid = []\n",
    "\n",
    "# 次元の範囲\n",
    "degree = range(2, 60)\n",
    "\n",
    "for i in degree:\n",
    "    # i次元の多項式モデルを作成\n",
    "    X3 = X.reshape(-1)\n",
    "    X3 = np.stack([X3**j for j in range(1, i)], axis=1)\n",
    "\n",
    "    # データセットの分割。X3を使っていることに注意\n",
    "    X_train, X_test, Y_train, Y_test = train_test_split(X3, Y, test_size=0.2, random_state=0)\n",
    "    X_train, X_valid, Y_train, Y_valid = train_test_split(X_train, Y_train, test_size=0.2, random_state=0)\n",
    "\n",
    "    # モデルの作成～予測\n",
    "    linear_model3 = LinearRegression()\n",
    "    linear_model3.fit(X_train, Y_train)\n",
    "\n",
    "    # 学習データに対する予測とMSEの算出\n",
    "    Y_pred = linear_model3.predict(X_train)\n",
    "    mse = mean_squared_error(Y_train, Y_pred)\n",
    "    mse_list_train.append(mse)\n",
    "\n",
    "    # 検証データに対する予測とMSEの算出\n",
    "    Y_pred = linear_model3.predict(X_valid)\n",
    "    mse = mean_squared_error(Y_valid, Y_pred)\n",
    "    mse_list_valid.append(mse)\n",
    "\n",
    "# グラフの描画\n",
    "plt.plot(degree, mse_list_train, color=\"red\")\n",
    "plt.plot(degree, mse_list_valid, color=\"blue\")\n",
    "plt.show()"
   ]
  },
  {
   "cell_type": "code",
   "execution_count": null,
   "id": "53629224",
   "metadata": {},
   "outputs": [],
   "source": [
    "赤線が学習データ、青線が検証データに対するMSEで、\n",
    "学習データの方は、全体的に 右肩下がり でどこまでもMSEが小さくなっていく傾向が確認できる。\n",
    "それに対して検証データの方は、30次元を過ぎたあたりから逆に、右肩上がり にMSEが増大してしまっているのが確認できます。"
   ]
  }
 ],
 "metadata": {
  "kernelspec": {
   "display_name": "Python 3 (ipykernel)",
   "language": "python",
   "name": "python3"
  },
  "language_info": {
   "codemirror_mode": {
    "name": "ipython",
    "version": 3
   },
   "file_extension": ".py",
   "mimetype": "text/x-python",
   "name": "python",
   "nbconvert_exporter": "python",
   "pygments_lexer": "ipython3",
   "version": "3.8.3"
  }
 },
 "nbformat": 4,
 "nbformat_minor": 5
}
