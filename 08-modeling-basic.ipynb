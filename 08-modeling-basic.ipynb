{
 "cells": [
  {
   "cell_type": "code",
   "execution_count": 1,
   "id": "b33b19dd",
   "metadata": {},
   "outputs": [],
   "source": [
    "import numpy as np\n",
    "import pandas as pd\n",
    "\n",
    "import statsmodels.formula.api as smf\n",
    "import statsmodels.api as sm\n",
    "\n",
    "import matplotlib.pyplot as plt\n",
    "import seaborn as sns\n",
    "\n",
    "%matplotlib inline\n",
    "sns.set()"
   ]
  },
  {
   "cell_type": "code",
   "execution_count": 2,
   "id": "5b9c8134",
   "metadata": {},
   "outputs": [],
   "source": [
    "data = pd.read_csv('iris.csv')"
   ]
  },
  {
   "cell_type": "code",
   "execution_count": 3,
   "id": "2dd665dc",
   "metadata": {},
   "outputs": [],
   "source": [
    "model1 = smf.ols(formula='sepal_length ~ sepal_width', data=data).fit()"
   ]
  },
  {
   "cell_type": "code",
   "execution_count": 4,
   "id": "18289dd7",
   "metadata": {},
   "outputs": [],
   "source": [
    "model2 = smf.ols(formula='sepal_length ~ sepal_width+petal_length', data=data).fit()"
   ]
  },
  {
   "cell_type": "code",
   "execution_count": 5,
   "id": "c2dca808",
   "metadata": {},
   "outputs": [],
   "source": [
    "model3 = smf.ols(formula='sepal_length ~ sepal_width+petal_length+petal_width', data=data).fit()"
   ]
  },
  {
   "cell_type": "code",
   "execution_count": 6,
   "id": "f7a90780",
   "metadata": {},
   "outputs": [
    {
     "name": "stdout",
     "output_type": "stream",
     "text": [
      "Model-1: 370.2744704915235\n",
      "Model-2: 98.88368575631824\n",
      "Model-3: 81.99955266474052\n"
     ]
    }
   ],
   "source": [
    "print('Model-1:',model1.aic)\n",
    "print('Model-2:',model2.aic)\n",
    "print('Model-3:',model3.aic)"
   ]
  },
  {
   "cell_type": "code",
   "execution_count": 9,
   "id": "bae0bdef",
   "metadata": {},
   "outputs": [
    {
     "data": {
      "text/html": [
       "<table class=\"simpletable\">\n",
       "<caption>OLS Regression Results</caption>\n",
       "<tr>\n",
       "  <th>Dep. Variable:</th>      <td>sepal_length</td>   <th>  R-squared:         </th> <td>   0.859</td>\n",
       "</tr>\n",
       "<tr>\n",
       "  <th>Model:</th>                   <td>OLS</td>       <th>  Adj. R-squared:    </th> <td>   0.856</td>\n",
       "</tr>\n",
       "<tr>\n",
       "  <th>Method:</th>             <td>Least Squares</td>  <th>  F-statistic:       </th> <td>   297.0</td>\n",
       "</tr>\n",
       "<tr>\n",
       "  <th>Date:</th>             <td>Thu, 25 Jan 2024</td> <th>  Prob (F-statistic):</th> <td>6.28e-62</td>\n",
       "</tr>\n",
       "<tr>\n",
       "  <th>Time:</th>                 <td>02:41:22</td>     <th>  Log-Likelihood:    </th> <td> -37.000</td>\n",
       "</tr>\n",
       "<tr>\n",
       "  <th>No. Observations:</th>      <td>   150</td>      <th>  AIC:               </th> <td>   82.00</td>\n",
       "</tr>\n",
       "<tr>\n",
       "  <th>Df Residuals:</th>          <td>   146</td>      <th>  BIC:               </th> <td>   94.04</td>\n",
       "</tr>\n",
       "<tr>\n",
       "  <th>Df Model:</th>              <td>     3</td>      <th>                     </th>     <td> </td>   \n",
       "</tr>\n",
       "<tr>\n",
       "  <th>Covariance Type:</th>      <td>nonrobust</td>    <th>                     </th>     <td> </td>   \n",
       "</tr>\n",
       "</table>\n",
       "<table class=\"simpletable\">\n",
       "<tr>\n",
       "        <td></td>          <th>coef</th>     <th>std err</th>      <th>t</th>      <th>P>|t|</th>  <th>[0.025</th>    <th>0.975]</th>  \n",
       "</tr>\n",
       "<tr>\n",
       "  <th>Intercept</th>    <td>    1.8451</td> <td>    0.250</td> <td>    7.368</td> <td> 0.000</td> <td>    1.350</td> <td>    2.340</td>\n",
       "</tr>\n",
       "<tr>\n",
       "  <th>sepal_width</th>  <td>    0.6549</td> <td>    0.067</td> <td>    9.823</td> <td> 0.000</td> <td>    0.523</td> <td>    0.787</td>\n",
       "</tr>\n",
       "<tr>\n",
       "  <th>petal_length</th> <td>    0.7111</td> <td>    0.057</td> <td>   12.560</td> <td> 0.000</td> <td>    0.599</td> <td>    0.823</td>\n",
       "</tr>\n",
       "<tr>\n",
       "  <th>petal_width</th>  <td>   -0.5626</td> <td>    0.127</td> <td>   -4.426</td> <td> 0.000</td> <td>   -0.814</td> <td>   -0.311</td>\n",
       "</tr>\n",
       "</table>\n",
       "<table class=\"simpletable\">\n",
       "<tr>\n",
       "  <th>Omnibus:</th>       <td> 0.265</td> <th>  Durbin-Watson:     </th> <td>   2.053</td>\n",
       "</tr>\n",
       "<tr>\n",
       "  <th>Prob(Omnibus):</th> <td> 0.876</td> <th>  Jarque-Bera (JB):  </th> <td>   0.432</td>\n",
       "</tr>\n",
       "<tr>\n",
       "  <th>Skew:</th>          <td> 0.003</td> <th>  Prob(JB):          </th> <td>   0.806</td>\n",
       "</tr>\n",
       "<tr>\n",
       "  <th>Kurtosis:</th>      <td> 2.737</td> <th>  Cond. No.          </th> <td>    54.7</td>\n",
       "</tr>\n",
       "</table><br/><br/>Warnings:<br/>[1] Standard Errors assume that the covariance matrix of the errors is correctly specified."
      ],
      "text/plain": [
       "<class 'statsmodels.iolib.summary.Summary'>\n",
       "\"\"\"\n",
       "                            OLS Regression Results                            \n",
       "==============================================================================\n",
       "Dep. Variable:           sepal_length   R-squared:                       0.859\n",
       "Model:                            OLS   Adj. R-squared:                  0.856\n",
       "Method:                 Least Squares   F-statistic:                     297.0\n",
       "Date:                Thu, 25 Jan 2024   Prob (F-statistic):           6.28e-62\n",
       "Time:                        02:41:22   Log-Likelihood:                -37.000\n",
       "No. Observations:                 150   AIC:                             82.00\n",
       "Df Residuals:                     146   BIC:                             94.04\n",
       "Df Model:                           3                                         \n",
       "Covariance Type:            nonrobust                                         \n",
       "================================================================================\n",
       "                   coef    std err          t      P>|t|      [0.025      0.975]\n",
       "--------------------------------------------------------------------------------\n",
       "Intercept        1.8451      0.250      7.368      0.000       1.350       2.340\n",
       "sepal_width      0.6549      0.067      9.823      0.000       0.523       0.787\n",
       "petal_length     0.7111      0.057     12.560      0.000       0.599       0.823\n",
       "petal_width     -0.5626      0.127     -4.426      0.000      -0.814      -0.311\n",
       "==============================================================================\n",
       "Omnibus:                        0.265   Durbin-Watson:                   2.053\n",
       "Prob(Omnibus):                  0.876   Jarque-Bera (JB):                0.432\n",
       "Skew:                           0.003   Prob(JB):                        0.806\n",
       "Kurtosis:                       2.737   Cond. No.                         54.7\n",
       "==============================================================================\n",
       "\n",
       "Warnings:\n",
       "[1] Standard Errors assume that the covariance matrix of the errors is correctly specified.\n",
       "\"\"\""
      ]
     },
     "execution_count": 9,
     "metadata": {},
     "output_type": "execute_result"
    }
   ],
   "source": [
    "model3.summary()"
   ]
  },
  {
   "cell_type": "code",
   "execution_count": null,
   "id": "d3aad48d",
   "metadata": {},
   "outputs": [],
   "source": []
  }
 ],
 "metadata": {
  "kernelspec": {
   "display_name": "Python 3 (ipykernel)",
   "language": "python",
   "name": "python3"
  },
  "language_info": {
   "codemirror_mode": {
    "name": "ipython",
    "version": 3
   },
   "file_extension": ".py",
   "mimetype": "text/x-python",
   "name": "python",
   "nbconvert_exporter": "python",
   "pygments_lexer": "ipython3",
   "version": "3.8.3"
  }
 },
 "nbformat": 4,
 "nbformat_minor": 5
}
