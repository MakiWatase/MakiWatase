{
 "cells": [
  {
   "cell_type": "code",
   "execution_count": 1,
   "id": "fd57ef3a",
   "metadata": {},
   "outputs": [],
   "source": [
    "import numpy as np\n",
    "import pandas as pd\n",
    "from scipy import stats\n",
    "\n",
    "import matplotlib as mpl\n",
    "from matplotlib import pyplot as plt\n",
    "import seaborn as sns\n",
    "sns.set()\n",
    "\n",
    "%matplotlib inline"
   ]
  },
  {
   "cell_type": "code",
   "execution_count": 2,
   "id": "a267d728",
   "metadata": {},
   "outputs": [],
   "source": [
    "data1 = pd.read_csv('Lesson5-1.csv')"
   ]
  },
  {
   "cell_type": "code",
   "execution_count": 3,
   "id": "ab245531",
   "metadata": {},
   "outputs": [
    {
     "data": {
      "text/plain": [
       "Length    51.820183\n",
       "dtype: float64"
      ]
     },
     "execution_count": 3,
     "metadata": {},
     "output_type": "execute_result"
    }
   ],
   "source": [
    "mu = np.mean(data1)\n",
    "mu"
   ]
  },
  {
   "cell_type": "code",
   "execution_count": 4,
   "id": "2f50e7f2",
   "metadata": {},
   "outputs": [
    {
     "data": {
      "text/plain": [
       "29"
      ]
     },
     "execution_count": 4,
     "metadata": {},
     "output_type": "execute_result"
    }
   ],
   "source": [
    "df = len(data1) - 1\n",
    "df"
   ]
  },
  {
   "cell_type": "code",
   "execution_count": 5,
   "id": "5f21cb02",
   "metadata": {},
   "outputs": [
    {
     "data": {
      "text/plain": [
       "Length    0.562163\n",
       "dtype: float64"
      ]
     },
     "execution_count": 5,
     "metadata": {},
     "output_type": "execute_result"
    }
   ],
   "source": [
    "sigma = np.std(data1, ddof=1)\n",
    "se = sigma/np.sqrt(len(data1))\n",
    "se"
   ]
  },
  {
   "cell_type": "code",
   "execution_count": 6,
   "id": "8a271113",
   "metadata": {},
   "outputs": [
    {
     "data": {
      "text/plain": [
       "Length    3.237819\n",
       "dtype: float64"
      ]
     },
     "execution_count": 6,
     "metadata": {},
     "output_type": "execute_result"
    }
   ],
   "source": [
    "t_value = (mu-50)/se\n",
    "t_value"
   ]
  },
  {
   "cell_type": "code",
   "execution_count": 7,
   "id": "9c41477c",
   "metadata": {},
   "outputs": [
    {
     "data": {
      "text/plain": [
       "array([0.00301227])"
      ]
     },
     "execution_count": 7,
     "metadata": {},
     "output_type": "execute_result"
    }
   ],
   "source": [
    "#確率分布の上側（右側）の裾を使用してp値を計算\n",
    "alpha = stats.t.cdf(np.abs(t_value), df=df) \n",
    "(1-alpha)*2"
   ]
  },
  {
   "cell_type": "code",
   "execution_count": 8,
   "id": "e953e506",
   "metadata": {},
   "outputs": [
    {
     "data": {
      "text/plain": [
       "array([0.00150613])"
      ]
     },
     "execution_count": 8,
     "metadata": {},
     "output_type": "execute_result"
    }
   ],
   "source": [
    "alpha = stats.t.cdf(np.abs(t_value), df=df) # 上側の裾を使用して確率を計算\n",
    "1-alpha"
   ]
  },
  {
   "cell_type": "code",
   "execution_count": 9,
   "id": "67acdfad",
   "metadata": {},
   "outputs": [],
   "source": [
    "# 2変量データのｔ検定　（対応のあるｔ検定）\n",
    "\n",
    "data2 = pd.read_csv('Lesson5-2.csv')"
   ]
  },
  {
   "cell_type": "code",
   "execution_count": 10,
   "id": "d1f2a192",
   "metadata": {},
   "outputs": [
    {
     "data": {
      "text/html": [
       "<div>\n",
       "<style scoped>\n",
       "    .dataframe tbody tr th:only-of-type {\n",
       "        vertical-align: middle;\n",
       "    }\n",
       "\n",
       "    .dataframe tbody tr th {\n",
       "        vertical-align: top;\n",
       "    }\n",
       "\n",
       "    .dataframe thead th {\n",
       "        text-align: right;\n",
       "    }\n",
       "</style>\n",
       "<table border=\"1\" class=\"dataframe\">\n",
       "  <thead>\n",
       "    <tr style=\"text-align: right;\">\n",
       "      <th></th>\n",
       "      <th>2-years-old</th>\n",
       "      <th>3-years-old</th>\n",
       "    </tr>\n",
       "  </thead>\n",
       "  <tbody>\n",
       "    <tr>\n",
       "      <th>0</th>\n",
       "      <td>16.624345</td>\n",
       "      <td>14.600841</td>\n",
       "    </tr>\n",
       "    <tr>\n",
       "      <th>1</th>\n",
       "      <td>14.388244</td>\n",
       "      <td>14.984220</td>\n",
       "    </tr>\n",
       "    <tr>\n",
       "      <th>2</th>\n",
       "      <td>14.471828</td>\n",
       "      <td>14.606675</td>\n",
       "    </tr>\n",
       "    <tr>\n",
       "      <th>3</th>\n",
       "      <td>13.927031</td>\n",
       "      <td>14.401233</td>\n",
       "    </tr>\n",
       "    <tr>\n",
       "      <th>4</th>\n",
       "      <td>15.865408</td>\n",
       "      <td>14.627380</td>\n",
       "    </tr>\n",
       "  </tbody>\n",
       "</table>\n",
       "</div>"
      ],
      "text/plain": [
       "   2-years-old  3-years-old\n",
       "0    16.624345    14.600841\n",
       "1    14.388244    14.984220\n",
       "2    14.471828    14.606675\n",
       "3    13.927031    14.401233\n",
       "4    15.865408    14.627380"
      ]
     },
     "execution_count": 10,
     "metadata": {},
     "output_type": "execute_result"
    }
   ],
   "source": [
    "data2.head()"
   ]
  },
  {
   "cell_type": "code",
   "execution_count": 11,
   "id": "7d2749ff",
   "metadata": {},
   "outputs": [
    {
     "data": {
      "text/html": [
       "<div>\n",
       "<style scoped>\n",
       "    .dataframe tbody tr th:only-of-type {\n",
       "        vertical-align: middle;\n",
       "    }\n",
       "\n",
       "    .dataframe tbody tr th {\n",
       "        vertical-align: top;\n",
       "    }\n",
       "\n",
       "    .dataframe thead th {\n",
       "        text-align: right;\n",
       "    }\n",
       "</style>\n",
       "<table border=\"1\" class=\"dataframe\">\n",
       "  <thead>\n",
       "    <tr style=\"text-align: right;\">\n",
       "      <th></th>\n",
       "      <th>2-years-old</th>\n",
       "      <th>3-years-old</th>\n",
       "      <th>Difference</th>\n",
       "    </tr>\n",
       "  </thead>\n",
       "  <tbody>\n",
       "    <tr>\n",
       "      <th>0</th>\n",
       "      <td>16.624345</td>\n",
       "      <td>14.600841</td>\n",
       "      <td>-2.023504</td>\n",
       "    </tr>\n",
       "    <tr>\n",
       "      <th>1</th>\n",
       "      <td>14.388244</td>\n",
       "      <td>14.984220</td>\n",
       "      <td>0.595977</td>\n",
       "    </tr>\n",
       "    <tr>\n",
       "      <th>2</th>\n",
       "      <td>14.471828</td>\n",
       "      <td>14.606675</td>\n",
       "      <td>0.134847</td>\n",
       "    </tr>\n",
       "    <tr>\n",
       "      <th>3</th>\n",
       "      <td>13.927031</td>\n",
       "      <td>14.401233</td>\n",
       "      <td>0.474201</td>\n",
       "    </tr>\n",
       "    <tr>\n",
       "      <th>4</th>\n",
       "      <td>15.865408</td>\n",
       "      <td>14.627380</td>\n",
       "      <td>-1.238028</td>\n",
       "    </tr>\n",
       "  </tbody>\n",
       "</table>\n",
       "</div>"
      ],
      "text/plain": [
       "   2-years-old  3-years-old  Difference\n",
       "0    16.624345    14.600841   -2.023504\n",
       "1    14.388244    14.984220    0.595977\n",
       "2    14.471828    14.606675    0.134847\n",
       "3    13.927031    14.401233    0.474201\n",
       "4    15.865408    14.627380   -1.238028"
      ]
     },
     "execution_count": 11,
     "metadata": {},
     "output_type": "execute_result"
    }
   ],
   "source": [
    "data2['Difference'] = data2['3-years-old'] - data2['2-years-old']\n",
    "data2.head()"
   ]
  },
  {
   "cell_type": "code",
   "execution_count": 12,
   "id": "281a4686",
   "metadata": {},
   "outputs": [
    {
     "data": {
      "text/plain": [
       "Ttest_1sampResult(statistic=2.212896760339997, pvalue=0.03493196300425262)"
      ]
     },
     "execution_count": 12,
     "metadata": {},
     "output_type": "execute_result"
    }
   ],
   "source": [
    "stats.ttest_1samp(data2['Difference'], 0)"
   ]
  },
  {
   "cell_type": "code",
   "execution_count": null,
   "id": "83d5476c",
   "metadata": {},
   "outputs": [],
   "source": []
  }
 ],
 "metadata": {
  "kernelspec": {
   "display_name": "Python 3 (ipykernel)",
   "language": "python",
   "name": "python3"
  },
  "language_info": {
   "codemirror_mode": {
    "name": "ipython",
    "version": 3
   },
   "file_extension": ".py",
   "mimetype": "text/x-python",
   "name": "python",
   "nbconvert_exporter": "python",
   "pygments_lexer": "ipython3",
   "version": "3.8.3"
  }
 },
 "nbformat": 4,
 "nbformat_minor": 5
}
